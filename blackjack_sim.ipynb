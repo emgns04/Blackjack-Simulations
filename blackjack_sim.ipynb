{
 "cells": [
  {
   "cell_type": "code",
   "execution_count": 171,
   "metadata": {},
   "outputs": [
    {
     "name": "stdout",
     "output_type": "stream",
     "text": [
      "8 10 ['ace', 2, 3, 4, 5, 6, 7, 9, 10, 10, 'ace', 2, 3, 4, 5, 6, 7, 8, 9, 10, 10, 10, 'ace', 2, 3, 4, 5, 6, 7, 8, 9, 10, 10, 10, 'ace', 2, 3, 4, 5, 6, 7, 8, 9, 10, 10, 10]\n",
      "15 as limit: 0.48975\n"
     ]
    },
    {
     "data": {
      "text/plain": [
       "<matplotlib.collections.PathCollection at 0x2b235494668>"
      ]
     },
     "execution_count": 171,
     "metadata": {},
     "output_type": "execute_result"
    },
    {
     "data": {
      "image/png": "[encoded data removed]",
      "text/plain": [
       "<Figure size 432x288 with 1 Axes>"
      ]
     },
     "metadata": {},
     "output_type": "display_data"
    }
   ],
   "source": [
    "import numpy as np\n",
    "import random\n",
    "from matplotlib import pyplot as plt\n",
    "a = [\"ace\",2,3,4,5,6,7,8,9,10,10,10]\n",
    "b = a * 4\n",
    "card1 = hit(b,x)\n",
    "card2 = hit(b,x)\n",
    "print(card1, card2,b)\n",
    "\n",
    "x = 0; y = 0\n",
    "my_limit = 16\n",
    "\n",
    "def ace(total):\n",
    "    if total + 11 > 21:\n",
    "        return 1\n",
    "    else:\n",
    "        return 11\n",
    "def hit(deck,total):\n",
    "    card = random.choice(deck)\n",
    "    if card == \"ace\":\n",
    "        value = ace(total)\n",
    "        deck.remove(card)\n",
    "        return(value)\n",
    "    deck.remove(card)\n",
    "    return card\n",
    "def game():\n",
    "    deck = [\"ace\",2,3,4,5,6,7,8,9,10,10,10] * 4\n",
    "    dealer_total = 0\n",
    "    my_total = 0\n",
    "    my_cards = []\n",
    "    dealer_cards = []\n",
    "    condition = False\n",
    "    x = False\n",
    "    y = False\n",
    "    while dealer_total < 22 and my_total < 22 and not condition:\n",
    "        if my_total <= my_limit:\n",
    "            my_cards.append(hit(deck, my_total))\n",
    "            my_total = sum(my_cards)\n",
    "        else:\n",
    "            x = True\n",
    "        if dealer_total <= 16:\n",
    "            dealer_cards.append(hit(deck, my_total))\n",
    "            dealer_total = sum(dealer_cards)\n",
    "        else:\n",
    "            y = True\n",
    "        if x and y:\n",
    "            break\n",
    "#     print(\"dealer: \", dealer_total)\n",
    "#     print(\"Me:\", my_total)\n",
    "    if my_total > 21:\n",
    "        return 0\n",
    "    elif dealer_total > 21:\n",
    "        return 1\n",
    "    elif my_total > dealer_total:\n",
    "        return 1\n",
    "    elif my_total < dealer_total:\n",
    "        return 0\n",
    "    else:\n",
    "        return .5\n",
    "outcome = []\n",
    "for i in range(0,100000):\n",
    "    outcome.append(game())\n",
    "print(\"15 as limit:\",sum(outcome)/10000)\n",
    "\n"
   ]
  },
  {
   "cell_type": "code",
   "execution_count": null,
   "metadata": {},
   "outputs": [],
   "source": [
    "x_vals = []\n",
    "y_vals = []\n",
    "for i in range(8,20):\n",
    "    x_vals.append(i)\n",
    "    \n",
    "    var3 = []\n",
    "    for avg in range(0,1000):\n",
    "        outcome = []\n",
    "        for b in range(0,10):\n",
    "            \n",
    "            outcome.append(game())\n",
    "           \n",
    "        avg1 = sum(outcome)/len(outcome)\n",
    "        var3.append(avg1)\n",
    "        \n",
    "    y_vals.append(sum(var3)/len(var3))\n",
    "\n",
    "plt.scatter(x_vals,y_vals)"
   ]
  }
 ],
 "metadata": {
  "kernelspec": {
   "display_name": "Python 3",
   "language": "python",
   "name": "python3"
  },
  "language_info": {
   "codemirror_mode": {
    "name": "ipython",
    "version": 3
   },
   "file_extension": ".py",
   "mimetype": "text/x-python",
   "name": "python",
   "nbconvert_exporter": "python",
   "pygments_lexer": "ipython3",
   "version": "3.6.5"
  }
 },
 "nbformat": 4,
 "nbformat_minor": 2
}
