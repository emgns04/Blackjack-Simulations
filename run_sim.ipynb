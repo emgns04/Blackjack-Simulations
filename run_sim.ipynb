{
 "cells": [
  {
   "cell_type": "markdown",
   "metadata": {},
   "source": [
    "### Import Deck and game from blackjack module"
   ]
  },
  {
   "cell_type": "code",
   "execution_count": 1,
   "metadata": {},
   "outputs": [],
   "source": [
    "import numpy as np\n",
    "import random\n",
    "from matplotlib import pyplot as plt\n",
    "from blackjack import Deck, game"
   ]
  },
  {
   "cell_type": "code",
   "execution_count": 14,
   "metadata": {},
   "outputs": [],
   "source": [
    "## run_simulation\n",
    "def run_sim(myTarget):\n",
    "    deck = Deck()\n",
    "    myTarget = 18\n",
    "    outcome = []\n",
    "    for i in range(10000):\n",
    "        outcome.append(game(deck, target = myTarget))\n",
    "    return(sum(outcome)/len(outcome))"
   ]
  },
  {
   "cell_type": "code",
   "execution_count": 15,
   "metadata": {},
   "outputs": [],
   "source": [
    "%%capture\n",
    "hand_limits = [i for i in range(8,21)]\n",
    "win_percentage = []\n",
    "\n",
    "for limit in hand_limits:\n",
    "    win_percentage.append(run_sim(limit))"
   ]
  },
  {
   "cell_type": "code",
   "execution_count": 16,
   "metadata": {},
   "outputs": [
    {
     "data": {
      "text/plain": [
       "<matplotlib.collections.PathCollection at 0x169da5e10f0>"
      ]
     },
     "execution_count": 16,
     "metadata": {},
     "output_type": "execute_result"
    },
    {
     "data": {
      "image/png": "[encoded data removed]",
      "text/plain": [
       "<Figure size 432x288 with 1 Axes>"
      ]
     },
     "metadata": {},
     "output_type": "display_data"
    }
   ],
   "source": [
    "plt.scatter(hand_limits,win_percentage)"
   ]
  },
  {
   "cell_type": "code",
   "execution_count": 43,
   "metadata": {},
   "outputs": [
    {
     "name": "stdout",
     "output_type": "stream",
     "text": [
      "shuffled\n",
      "cards exists at:  2838132136520\n",
      "cards exists at:  2838132136520\n",
      "Num cards: 415\n",
      "cards exists at:  2838132136520\n",
      "cards exists at:  2838132136520\n",
      "Num cards: 414\n",
      "cards exists at:  2838132136520\n",
      "cards exists at:  2838132136520\n",
      "Num cards: 413\n",
      "cards exists at:  2838132136520\n",
      "cards exists at:  2838132136520\n",
      "Num cards: 412\n",
      "cards exists at:  2838132136520\n",
      "cards exists at:  2838132136520\n",
      "Num cards: 411\n",
      "cards exists at:  2838132136520\n",
      "cards exists at:  2838132136520\n",
      "Num cards: 410\n",
      "dealer:  17\n",
      "Me: 18\n"
     ]
    },
    {
     "data": {
      "text/plain": [
       "1"
      ]
     },
     "execution_count": 43,
     "metadata": {},
     "output_type": "execute_result"
    }
   ],
   "source": []
  },
  {
   "cell_type": "code",
   "execution_count": 3,
   "metadata": {},
   "outputs": [
    {
     "name": "stdout",
     "output_type": "stream",
     "text": [
      "Initial hand:  9\n",
      "Dealer initial hand:  20\n",
      "I busted, whoops 24\n"
     ]
    },
    {
     "data": {
      "text/plain": [
       "0"
      ]
     },
     "execution_count": 3,
     "metadata": {},
     "output_type": "execute_result"
    }
   ],
   "source": [
    "deck = Deck()\n",
    "game(deck, 16)"
   ]
  },
  {
   "cell_type": "code",
   "execution_count": 13,
   "metadata": {},
   "outputs": [
    {
     "name": "stdout",
     "output_type": "stream",
     "text": [
      "Initial hand:  10\n",
      "Dealer initial hand:  12\n",
      "Dealer busted, I win:  22\n"
     ]
    },
    {
     "data": {
      "text/plain": [
       "1"
      ]
     },
     "execution_count": 13,
     "metadata": {},
     "output_type": "execute_result"
    }
   ],
   "source": [
    "game(deck, 8)"
   ]
  }
 ],
 "metadata": {
  "kernelspec": {
   "display_name": "Python 3",
   "language": "python",
   "name": "python3"
  },
  "language_info": {
   "codemirror_mode": {
    "name": "ipython",
    "version": 3
   },
   "file_extension": ".py",
   "mimetype": "text/x-python",
   "name": "python",
   "nbconvert_exporter": "python",
   "pygments_lexer": "ipython3",
   "version": "3.6.5"
  }
 },
 "nbformat": 4,
 "nbformat_minor": 2
}
